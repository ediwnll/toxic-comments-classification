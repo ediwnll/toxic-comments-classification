{
 "cells": [
  {
   "cell_type": "markdown",
   "metadata": {},
   "source": [
    "Imports"
   ]
  },
  {
   "cell_type": "code",
   "execution_count": 70,
   "metadata": {},
   "outputs": [],
   "source": [
    "import pandas as pd\n",
    "import numpy as np\n",
    "\n",
    "from textblob import TextBlob\n",
    "from nltk.tokenize import WordPunctTokenizer, word_tokenize, StanfordSegmenter, sent_tokenize, PunktSentenceTokenizer\n",
    "from nltk.corpus import stopwords\n",
    "\n",
    "import re, os, sys, string, itertools\n",
    "from collections import defaultdict, Counter\n",
    "import unicodedata\n",
    "from tqdm import tqdm, tqdm_notebook\n",
    "import sentencepiece as spm\n"
   ]
  },
  {
   "cell_type": "markdown",
   "metadata": {},
   "source": [
    "Function to replace words which are written in quotes with quoted word"
   ]
  },
  {
   "cell_type": "code",
   "execution_count": 71,
   "metadata": {},
   "outputs": [],
   "source": [
    "def remove_quotes(series):\n",
    "    \"\"\"\n",
    "    Function removes quotes from words or phrases written in double quotes.\n",
    "    \"\"\"\n",
    "    # Define a regex pattern to match words or phrases in quotes\n",
    "    regex = re.compile(r'\"([\\w\\s]+)\"')\n",
    "    \n",
    "    # Count the number of occurrences of quoted words/phrases\n",
    "    total_occurrences = series.str.count(regex).sum()\n",
    "    print(f\"Total occurrences of quoted words: {total_occurrences}\")\n",
    "    \n",
    "    # Remove the quotes but keep the words inside\n",
    "    series = series.str.replace(regex, r'\\1', regex=True)\n",
    "    \n",
    "    return series"
   ]
  },
  {
   "cell_type": "markdown",
   "metadata": {},
   "source": [
    "Removal of IP Address found in text"
   ]
  },
  {
   "cell_type": "code",
   "execution_count": 72,
   "metadata": {},
   "outputs": [],
   "source": [
    "def remove_ips(series):\n",
    "    \"\"\"\n",
    "    Removing Ip Addresses\n",
    "    \"\"\"\n",
    "    series = series.copy()\n",
    "    regex = re.compile(r'(([0-9]{1,}\\.){2,}[0-9]{1,})')\n",
    "    print(\"Total unique ip address in data are {}\".format(series.str.extract(regex).nunique()))\n",
    "    series = series.str.replace(regex, ' ', regex = True)\n",
    "    return series\n"
   ]
  },
  {
   "cell_type": "code",
   "execution_count": 73,
   "metadata": {},
   "outputs": [],
   "source": [
    "def remove_trailing_dates(series):\n",
    "    series = series.copy()\n",
    "    return series.str.replace(\"([0-9]{1,2}:[0-9]{1,2},{0,1}\\s[0-9]{1,2}\\s[a-zA-Z]{3,}\\s[0-9]{2,4}\\s\\((utc|UTC)\\))\", \" \", regex = True)"
   ]
  },
  {
   "cell_type": "code",
   "execution_count": 74,
   "metadata": {},
   "outputs": [],
   "source": [
    "def trim_repetitions(series, thresh=5):\n",
    "    \"\"\"\n",
    "    If comment has repetitions, if more than repetition then trim at 10 words\n",
    "    \"\"\"\n",
    "    series = series.copy()\n",
    "    total_words = series.str.count(\"\\w+\")\n",
    "    unique_words = series.apply(lambda x:len(np.unique(x.split(' '))))\n",
    "\n",
    "    rep_inds = total_words/unique_words > thresh\n",
    "    print(\"Total comments with high repetitions are {}\".format(sum(rep_inds)))\n",
    "    print(\"Some examples of high reps are {}\".format(series.loc[rep_inds].sample(5).values))\n",
    "\n",
    "    rep_inds_unq = iter(unique_words.loc[rep_inds])\n",
    "    series.loc[rep_inds] = series[rep_inds].str.split(' ').str.slice(0, next(rep_inds_unq)).str.join(' ')\n",
    "\n",
    "    print(\"Some samples are {}\".format(series.loc[rep_inds].sample(5).values))\n",
    "    return series"
   ]
  },
  {
   "cell_type": "code",
   "execution_count": 75,
   "metadata": {},
   "outputs": [],
   "source": [
    "def break_oovocabwords(series, vocab_filename, sp_file):\n",
    "    \"\"\"\n",
    "    Break OOV words using SentencePiece and preprocess the text.\n",
    "    \"\"\"\n",
    "    series = series.copy()\n",
    "\n",
    "    # Load the vocabulary\n",
    "    with open(vocab_filename, encoding='utf-8') as f:\n",
    "        dict_word = set([o.rstrip().rsplit(' ')[0] for o in f])\n",
    "\n",
    "    # Load SentencePiece model\n",
    "    sp = spm.SentencePieceProcessor()\n",
    "    sp.Load(sp_file)\n",
    "\n",
    "    def standardize_repeated_chars(word):\n",
    "        \"\"\"\n",
    "        Replace 3+ repeated characters with 2 (e.g., 'wayyyyy' -> 'wayy').\n",
    "        \"\"\"\n",
    "        return re.sub(r'(.)\\1{2,}', r'\\1\\1', word)\n",
    "\n",
    "    # Preprocess each word in the series\n",
    "    series = series.apply(lambda x: ' '.join(itertools.chain.from_iterable(\n",
    "        [sp.EncodeAsPieces(standardize_repeated_chars(word)) if word not in dict_word else [word] for word in x.split(' ')]\n",
    "    )))\n",
    "\n",
    "    # Remove SentencePiece artifacts\n",
    "    series = series.str.replace(\"â–\", \"\", regex=False)\n",
    "\n",
    "    return series\n"
   ]
  },
  {
   "cell_type": "code",
   "execution_count": 76,
   "metadata": {},
   "outputs": [],
   "source": [
    "def remove_url(series):\n",
    "    series = series.copy()\n",
    "    regex = re.compile(r'http[s]?://\\S+')\n",
    "    series = series.str.replace(regex, ' ', regex = True)\n",
    "    return series\n"
   ]
  },
  {
   "cell_type": "code",
   "execution_count": 77,
   "metadata": {},
   "outputs": [],
   "source": [
    "def preprocess_text(series, remove_ip=True, remove_date_stamps=True, tag_quoted=True, remove_puncts=True, lower=True,\n",
    "                    remove_digits=True, remove_nonchars=True,\n",
    "                   break_oov=True, break_vocab_file=\"\", break_sp_file=\"\", trim_reps=True):\n",
    "    series = series.copy()\n",
    "    series = series.str.replace(r\"\\\\n{1,}\", \" line \")\n",
    "\n",
    "    if remove_url:\n",
    "        series = remove_url(series)\n",
    "    \n",
    "    if remove_ip:\n",
    "        series = remove_ips(series)\n",
    "        \n",
    "    if remove_date_stamps:\n",
    "        series = remove_trailing_dates(series)\n",
    "        \n",
    "    if tag_quoted:\n",
    "        series = remove_quotes(series)\n",
    "        \n",
    "    if remove_puncts:\n",
    "        series = series.str.replace(\"'\", \"\")\n",
    "        series = series.str.translate(str.maketrans({s:\" \" for s in string.punctuation}))\n",
    "        \n",
    "    if lower:\n",
    "        series = series.str.lower()\n",
    "        \n",
    "    if remove_digits:\n",
    "        series = series.str.replace(r\"\\d\", \"\", regex = True )\n",
    "    \n",
    "    if remove_nonchars:\n",
    "        series = series.str.replace(r\"[^a-zA-Z0-9.,\\\"!]+\", \" \", regex = True)\n",
    "        \n",
    "    if break_oov:\n",
    "        series = break_oovocabwords(series, break_vocab_file, break_sp_file)\n",
    "        \n",
    "    if trim_reps:\n",
    "        series = trim_repetitions(series, thresh=10)\n",
    "        \n",
    "    return series"
   ]
  },
  {
   "cell_type": "code",
   "execution_count": 78,
   "metadata": {},
   "outputs": [],
   "source": [
    "train = pd.read_csv(\"train.csv\")\n",
    "test = pd.read_csv(\"test.csv\")\n",
    "train.head()\n",
    "\n",
    "list_classes = [\"toxic\", \"severe_toxic\", \"obscene\", \"threat\", \"insult\", \"identity_hate\"]"
   ]
  },
  {
   "cell_type": "code",
   "execution_count": 79,
   "metadata": {},
   "outputs": [
    {
     "name": "stdout",
     "output_type": "stream",
     "text": [
      "Total unique ip address in data are 0    5507\n",
      "1     274\n",
      "dtype: int64\n",
      "Total occurrences of quoted words: 63828\n",
      "Total comments with high repetitions are 378\n",
      "Some examples of high reps are ['user user precious roy go away and bother someone else you are not wanted here stop stalking user user precious roy go away and bother someone else you are not wanted here stop stalking user user precious roy go away and bother someone else you are not wanted here stop stalking user user precious roy go away and bother someone else you are not wanted here stop stalking user user precious roy go away and bother someone else you are not wanted here stop stalking user user precious roy go away and bother someone else you are not wanted here stop stalking user user precious roy go away and bother someone else you are not wanted here stop stalking user user precious roy go away and bother someone else you are not wanted here stop stalking user user precious roy go away and bother someone else you are not wanted here stop stalking user user precious roy go away and bother someone else you are not wanted here stop stalking user user precious roy go away and bother someone else you are not wanted here stop stalking'\n",
      " '▁ar your retarded your retarded your retarded your retarded your retarded your retarded your retarded your retarded your retarded your retarded your retarded your retarded your retarded your retarded your retarded your retarded your retarded your retarded your retarded your retarded your retarded your retarded your retarded your retarded your retarded your retarded your retarded your retarded your retarded your retarded your retarded your retarded your retarded your retarded your retarded your retarded your retarded your retarded ticle'\n",
      " 'you are years older than your husband you are an old cougar you are an old cougar you are an old cougar you are an old cougar you are an old cougar you are an old cougar you are an old cougar you are an old cougar you are an old cougar you are an old cougar you are an old cougar you are an old cougar you are an old cougar you are an old cougar you are an old cougar you are an old cougar you are an old cougar you are an old cougar you are an old cougar you are an old cougar you are an old cougar you are an old cougar you are an old cougar you are an old cougar you are an old cougar you are an old cougar you are an old cougar you are an old cougar you are an old cougar you are an old cougar you are an old cougar you are an old cougar you are an old cougar you are an old cougar you are an old cougar you are an old cougar you are an old cougar you are an old cougar you are an old cougar you are an old cougar you are an old cougar you are an old cougar you are an old cougar you are an old cougar you are an old cougar you are an old cougar you are an old cougar you are an old cougar you are an old cougar you are an old cougar you are an old cougar you are an old cougar you are an old cougar you are an old cougar you are an old cougar you are an old cougar you are an old cougar you are an old cougar you are an old cougar you are an old cougar you are an old cougar you are an old cougar you are an old cougar you are an old cougar you are an old cougar you are an old cougar you are an old cougar you are an old cougar you are an old cougar you are an old cougar you are an old cougar you are an old cougar you are an old cougar you are an old cougar you are an old cougar you are an old cougar you are an old cougar you are an old cougar you are an old cougar you are an old cougar you are an old cougar you are an old cougar you are an old cougar you are an old cougar you are an old cougar you are an old cougar you are an old cougar you are an old cougar you are an old cougar you are an old cougar you are an old cougar you are an old cougar you are an old cougar you are an old cougar you are an old cougar you are an old cougar you are an old cougar you are an old cougar you are an old cougar you are an old cougar you are an old cougar you are an old cougar you are an old cougar you are an old cougar you are an old cougar you are an old cougar you are an old cougar you are an old cougar you are an old cougar you are an old cougar you are an old cougar you are an old cougar you are an old cougar you are an old cougar you are an old cougar you are an old cougar you are an old cougar you are an old cougar you are an old cougar you are an old cougar you are an old cougar you are an old cougar you are an old cougar you are an old cougar you are an old cougar you are an old cougar you are an old cougar you are an old cougar you are an old cougar you are an old cougar you are an old cougar you are an old cougar you are an old cougar you are an old cougar you are an old cougar you are an old cougar you are an old cougar you are an old cougar you are an old cougar you are an old cougar you are an old cougar you are an old cougar you are an old cougar you are an old cougar you are an old cougar you are an old cougar you are an old cougar you are an old cougar you are an old cougar you are an old cougar you are an old cougar you are an old cougar you are an old cougar you are an old cougar you are an old cougar you are an old cougar you are an old cougar you are an old cougar you are an old cougar you are an old cougar you are an old cougar you are an old cougar you are an old cougar you are an old cougar you are an old cougar you are an old cougar you are an old cougar you are an old cougar you are an old cougar you are an old cougar you are an old cougar you are an old cougar you are an old cougar you are an old cougar you are an old cougar you are an old cougar you are an old cougar you are an old cougar you are an old cougar you are an old cougar you are an old cougar you are an old cougar you are an old cougar you are an old cougar you are an old cougar you are an old cougar you are an old cougar you are an old cougar you are an old cougar you are an old cougar you are an old cougar you are an old cougar you are an old cougar you are an old cougar you are an old cougar you are an old cougar you are an old cougar you are an old cougar you are an old cougar you are an old cougar you are an old cougar you are an old cougar you are an old cougar you are an old cougar you are an old cougar'\n",
      " 'you stupid nigger you stupid nigger you stupid nigger you stupid nigger you stupid nigger you stupid nigger you stupid nigger you stupid nigger you stupid nigger you stupid nigger you stupid nigger you stupid nigger you stupid nigger you stupid nigger you stupid nigger you stupid nigger you stupid nigger you stupid nigger you stupid nigger you stupid nigger you stupid nigger you stupid nigger you stupid nigger you stupid nigger you stupid nigger you stupid nigger you stupid nigger you stupid nigger you stupid nigger you stupid nigger you stupid nigger you stupid nigger you stupid nigger you stupid nigger you stupid nigger you stupid nigger you stupid nigger you stupid nigger you stupid nigger you stupid nigger you stupid nigger you stupid nigger you stupid nigger you stupid nigger you stupid nigger you stupid nigger you stupid nigger you stupid nigger you stupid nigger you stupid nigger you stupid nigger you stupid nigger you stupid nigger you stupid nigger you stupid nigger you stupid nigger you stupid nigger you stupid nigger you stupid nigger you stupid nigger you stupid nigger you stupid nigger you stupid nigger you stupid nigger you stupid nigger you stupid nigger you stupid nigger you stupid nigger you stupid nigger you stupid nigger you stupid nigger you stupid nigger you stupid nigger you stupid nigger you stupid nigger you stupid nigger you stupid nigger you stupid nigger you stupid nigger you stupid nigger you stupid nigger you stupid nigger you stupid nigger you stupid nigger you stupid nigger you stupid nigger you stupid nigger you stupid nigger you stupid nigger you stupid nigger you stupid nigger you stupid nigger you stupid nigger you stupid nigger you stupid nigger you stupid nigger you stupid nigger you stupid nigger you stupid nigger you stupid nigger you stupid nigger you stupid nigger you stupid nigger you stupid nigger you stupid nigger you stupid nigger you stupid nigger you stupid nigger you stupid nigger you stupid nigger you stupid nigger you stupid nigger you stupid nigger you stupid nigger you stupid nigger you stupid nigger you stupid nigger you stupid nigger you stupid nigger you stupid nigger you stupid nigger you stupid nigger you stupid nigger you stupid nigger you stupid nigger you stupid nigger you stupid nigger you stupid nigger you stupid nigger you stupid nigger you stupid nigger you stupid nigger you stupid nigger you stupid nigger you stupid nigger you stupid nigger you stupid nigger you stupid nigger you stupid nigger you stupid nigger you stupid nigger you stupid nigger you stupid nigger you stupid nigger you stupid nigger you stupid nigger you stupid nigger you stupid nigger you stupid nigger you stupid nigger you stupid nigger you stupid nigger you stupid nigger you stupid nigger you stupid nigger you stupid nigger you stupid nigger you stupid nigger you stupid nigger you stupid nigger you stupid nigger you stupid nigger you stupid nigger you stupid nigger you stupid nigger you stupid nigger you stupid nigger you stupid nigger you stupid nigger you stupid nigger you stupid nigger you stupid nigger you stupid nigger you stupid nigger you stupid nigger you stupid nigger you stupid nigger you stupid nigger you stupid nigger you stupid nigger you stupid nigger you stupid nigger you stupid nigger you stupid nigger you stupid nigger you stupid nigger you stupid nigger you stupid nigger you stupid nigger you stupid nigger you stupid nigger you stupid nigger you stupid nigger you stupid nigger you stupid nigger you stupid nigger you stupid nigger you stupid nigger you stupid nigger you stupid nigger you stupid nigger you stupid nigger you stupid nigger you stupid nigger you stupid nigger you stupid nigger you stupid nigger you stupid nigger you stupid nigger you stupid nigger you stupid nigger you stupid nigger you stupid nigger you stupid nigger you stupid nigger you stupid nigger you stupid nigger you stupid nigger you stupid nigger you stupid nigger you stupid nigger you stupid nigger you stupid nigger you stupid nigger you stupid nigger you stupid nigger you stupid nigger you stupid nigger you stupid nigger you stupid nigger you stupid nigger you stupid nigger you stupid nigger you stupid nigger you stupid nigger you stupid nigger you stupid nigger you stupid nigger you stupid nigger you stupid nigger you stupid nigger you are a stinky face'\n",
      " 'teabag teabag teabag teabag teabag teabag teabag teabag teabag teabag teabag teabag teabag teabag teabag teabag teabag teabag teabag teabag teabag teabag teabag teabag teabag teabag teabag teabag teabag teabag teabag teabag teabag teabag teabag teabag teabag teabag teabag teabag teabag teabag teabag teabag teabag teabag teabag teabag teabag teabag teabag teabag teabag teabag teabag teabag teabag teabag teabag teabag teabag teabag teabag teabag teabag teabag teabag teabag teabag teabag teabag teabag teabag teabag teabag teabag teabag teabag teabag teabag teabag teabag teabag teabag teabag teabag teabag teabag teabag teabag teabag teabag teabag teabag teabag teabag teabag teabag teabag teabag teabag teabag teabag teabag teabag teabag teabag teabag teabag teabag teabag teabag teabag teabag teabag teabag teabag teabag teabag teabag teabag teabag teabag teabag teabag teabag teabag teabag teabag teabag teabag teabag teabag teabag teabag teabag teabag teabag teabag teabag teabag teabag teabag teabag teabag teabag teabag teabag teabag teabag teabag teabag teabag teabag teabag teabag teabag teabag teabag teabag teabag teabag teabag teabag teabag teabag teabag teabag teabag teabag teabag teabag teabag teabag teabag teabag teabag teabag teabag teabag teabag teabag teabag teabag teabag teabag teabag teabag teabag teabag teabag teabag teabag teabag teabag teabag teabag teabag teabag teabag teabag teabag teabag teabag teabag teabag teabag teabag teabag teabag teabag teabag teabag teabag teabag teabag teabag teabag teabag teabag teabag teabag teabag teabag teabag teabag teabag teabag teabag teabag teabag teabag teabag teabag teabag teabag teabag teabag teabag teabag teabag teabag teabag teabag teabag teabag teabag teabag teabag teabag teabag teabag teabag teabag teabag teabag teabag teabag teabag teabag teabag teabag teabag teabag teabag teabag teabag teabag teabag teabag teabag teabag teabag teabag teabag teabag teabag teabag teabag teabag teabag teabag teabag teabag teabag teabag teabag teabag teabag teabag teabag teabag teabag teabag teabag teabag teabag teabag teabag teabag teabag teabag teabag teabag teabag teabag teabag teabag teabag teabag teabag teabag teabag teabag teabag teabag teabag teabag teabag teabag teabag teabag teabag teabag teabag teabag teabag teabag teabag teabag teabag teabag teabag teabag teabag teabag teabag teabag teabag teabag teabag teabag teabag teabag teabag teabag teabag teabag teabag teabag teabag teabag teabag teabag teabag teabag teabag teabag teabag teabag teabag teabag teabag teabag teabag teabag teabag teabag teabag teabag teabag teabag teabag teabag teabag teabag teabag teabag teabag teabag teabag teabag teabag teabag teabag teabag teabag teabag teabag teabag teabag teabag teabag teabag teabag teabag teabag teabag teabag teabag teabag teabag teabag teabag teabag teabag teabag teabag teabag teabag teabag teabag teabag teabag teabag teabag teabag teabag teabag teabag teabag teabag teabag teabag teabag teabag teabag teabag teabag teabag teabag teabag teabag teabag teabag teabag teabag teabag teabag teabag teabag teabag teabag teabag teabag teabag teabag teabag teabag teabag teabag teabag teabag teabag teabag teabag teabag teabag teabag teabag teabag teabag teabag teabag teabag teabag teabag teabag teabag teabag teabag teabag teabag teabag teabag teabag teabag teabag teabag teabag teabag teabag teabag teabag teabag teabag teabag teabag teabag teabag teabag teabag teabag teabag teabag teabag teabag teabag teabag teabag teabag teabag teabag teabag teabag teabag teabag teabag teabag teabag teabag teabag teabag teabag teabag teabag teabag teabag teabag teabag teabag teabag teabag teabag teabag teabag teabag teabag teabag teabag teabag teabag teabag teabag teabag teabag teabag teabag teabag teabag teabag teabag teabag teabag teabag teabag teabag teabag teabag teabag teabag teabag teabag teabag teabag teabag teabag teabag teabag teabag teabag teabag teabag teabag teabag teabag teabag teabag teabag teabag teabag teabag teabag teabag teabag teabag teabag teabag teabag teabag teabag teabag teabag teabag teabag teabag teabag teabag teabag teabag teabag teabag teabag teabag teabag teabag teabag teabag teabag teabag teabag teabag teabag teabag teabag teabag teabag teabag teabag teabag teabag teabag teabag teabag teabag teabag teabag teabag teabag teabag teabag']\n",
      "Some samples are ['bullshit bullshit bullshit bullshit bullshit bullshit bullshit bullshit bullshit bullshit bullshit bullshit bullshit bullshit bullshit bullshit bullshit bullshit bullshit bullshit bullshit bullshit bullshit bullshit bullshit bullshit'\n",
      " 'shoot yourself you freak shoot yourself you freak shoot yourself you freak shoot yourself you freak shoot yourself you freak shoot yourself you freak shoot yourself'\n",
      " 'faggot faggot faggot faggot faggot faggot faggot faggot faggot faggot faggot faggot faggot faggot faggot faggot faggot faggot faggot faggot faggot faggot faggot faggot faggot faggot'\n",
      " 'bicth bicth bicth bicth bicth bicth bicth bicth bicth bicth bicth bicth bicth bicth bicth'\n",
      " 'mamas boy mamas boy mamas boy mamas ▁bo ym amas boy mamas ▁bo ym amas boy mamas ▁bo ym amas boy mamas ▁bo ym amas boy']\n",
      "Total unique ip address in data are 0    822\n",
      "1    255\n",
      "dtype: int64\n",
      "Total occurrences of quoted words: 57355\n",
      "Total comments with high repetitions are 666\n",
      "Some examples of high reps are ['▁zz br r zz ▁zz br r zz ▁zz br r zz ▁zz br r zz ▁zz br r zz ▁zz br r zz ▁zz br r zz ▁zz br r zz ▁zz br r zz ▁zz br r zz ▁zz br r zz ▁zz br r zz ▁zz br r zz ▁zz br r zz ▁zz br r zz ▁zz br r zz ▁zz br r zz ▁zz br r zz ▁zz br r zz ▁zz br r zz ▁zz br r zz ▁zz br r zz ▁zz br r zz ▁zz br r zz ▁zz br r zz ▁zz br r zz ▁zz br r zz ▁zz br r zz ▁zz br r zz ▁zz br r zz ▁zz br r zz ▁zz br r zz ▁zz br r zz ▁zz br r zz ▁zz br r zz ▁zz br r zz ▁zz br r zz ▁zz br r zz ▁zz br r zz ▁zz br r zz ▁zz br r zz ▁zz br r zz ▁zz br r zz ▁zz br r zz ▁zz br r zz ▁zz br r zz ▁zz'\n",
      " 'george bush sucks george bush ▁sucks george bush ▁sucks george bush ▁sucks george bush ▁sucks george bush ▁sucks george bush ▁sucks george bush ▁sucks george bush ▁sucks george bush ▁sucks george bush ▁sucks george bush ▁sucks george bush ▁sucks george bush ▁sucks george bush ▁sucks george bush ▁sucks george bush ▁sucks george bush ▁sucks george bush ▁sucks george bush ▁sucks george bush ▁sucks george bush ▁sucks george bush ▁sucks george bush ▁sucks george bush ▁sucks george bush ▁sucks george bush ▁sucks george bush ▁sucks george bush ▁sucks george bush ▁sucks george bush ▁sucks george bush ▁sucks george bush ▁sucks george bush ▁sucks george bush ▁sucks george bush ▁sucks george bush ▁sucks george bush ▁sucks george bush ▁sucks george bush ▁sucks george bush ▁sucks george bush ▁sucks george bush ▁sucks george bush ▁sucks george bush ▁sucks george bush ▁sucks george bush ▁sucks george bush ▁sucks george bush ▁sucks george bush ▁sucks george bush ▁sucks george bush ▁sucks george bush ▁sucks george bush ▁sucks george bush ▁sucks george bush ▁sucks george bush ▁sucks george bush ▁sucks george bush ▁sucks george bush ▁sucks george bush ▁sucks george bush ▁sucks george bush ▁sucks george bush ▁sucks george bush ▁sucks george bush ▁sucks george bush ▁sucks george bush ▁sucks george bush ▁sucks george bush ▁sucks george bush ▁sucks george bush ▁sucks george bush ▁sucks george bush ▁sucks george bush ▁sucks george bush ▁sucks george bush ▁sucks george bush ▁sucks george bush ▁sucks george bush ▁sucks george bush ▁sucks george bush ▁sucks george bush ▁sucks george bush ▁sucks george bush ▁sucks george bush ▁sucks george bush ▁sucks george bush ▁sucks george bush ▁sucks george bush ▁sucks george bush ▁sucks george bush ▁sucks george bush ▁sucks george bush ▁sucks george bush ▁sucks george bush ▁sucks george bush ▁sucks george bush ▁sucks george bush ▁sucks george bush ▁sucks george bush ▁sucks george bush ▁sucks george bush ▁sucks george bush ▁sucks george bush ▁sucks george bush ▁sucks george bush ▁sucks george bush ▁sucks george bush ▁sucks george bush ▁sucks george bush ▁sucks george bush ▁sucks george bush ▁sucks george bush ▁sucks george bush ▁sucks george bush ▁sucks george bush ▁sucks george bush ▁sucks george bush ▁sucks george bush ▁sucks george bush ▁sucks george bush ▁sucks george bush ▁sucks george bush ▁sucks george bush ▁sucks george bush ▁sucks george bush ▁sucks george bush ▁sucks george bush ▁sucks george bush ▁sucks george bush ▁sucks george bush ▁sucks george bush ▁sucks george bush ▁sucks george bush ▁sucks george bush ▁sucks george bush ▁sucks george bush ▁sucks george bush ▁sucks george bush ▁sucks george bush ▁sucks george bush ▁sucks george bush ▁sucks george bush ▁sucks george bush ▁sucks george bush ▁sucks george bush ▁sucks george bush ▁sucks george bush ▁sucks george bush ▁sucks george bush ▁sucks george bush ▁sucks george bush ▁sucks george bush ▁sucks george bush ▁sucks george bush ▁sucks george bush ▁sucks george bush ▁sucks george bush ▁sucks george bush sucks headline text'\n",
      " 'the cake is a lie the cake is a lie the cake is a lie the cake is a lie the cake is a lie the cake is a lie the cake is a lie the cake is a lie the cake is a lie the cake is a lie the cake is a lie the cake is a lie the cake is a lie the cake is a lie the cake is a lie the cake is a lie the cake is a lie the cake is a lie the cake is a lie the cake is a lie the cake is a lie the cake is a lie the cake is a lie the cake is a lie the cake is a lie the cake is a lie the cake is a lie the cake is a lie the cake is a lie the cake is a lie the cake is a lie the cake is a lie the cake is a lie the cake is a lie the cake is a lie the cake is a lie the cake is a lie the cake is a lie the cake is a lie the cake is a lie the cake is a lie the cake is a lie the cake is a lie the cake is a lie the cake is a lie the cake is a lie the cake is a lie the cake is a lie the cake is a lie the cake is a lie the cake is a lie the cake is a lie the cake is a lie the cake is a lie the cake is a lie the cake is a lie the cake is a lie the cake is a lie the cake is a lie the cake is a lie the cake is a lie the cake is a lie the cake is a lie the cake is a lie the cake is a lie the cake is a lie the cake is a lie the cake is a lie the cake is a lie the cake is a lie the cake is a lie the cake is a lie the cake is a lie the cake is a lie the cake is a lie the cake is a lie the cake is a lie the cake is a lie the cake is a lie the cake is a lie the cake is a lie the cake is a lie the cake is a lie the cake is a lie the cake is a lie the cake is a lie the cake is a lie the cake is a lie the cake is a lie the cake is a lie the cake is a lie the cake is a lie the cake is a lie the cake is a lie the cake is a lie the cake is a lie the cake is a lie the cake is a lie the cake is a lie the cake is a lie the cake is a lie the cake is a lie the cake is a lie the cake is a lie the cake is a lie the cake is a lie the cake is a lie the cake is a lie the cake is a lie the cake is a lie the cake is a lie the cake is a lie the cake is a lie the cake is a lie the cake is a lie the cake is a lie the cake is a lie the cake is a lie the cake is a lie the cake is a lie the cake is a lie the cake is a lie the cake is a lie the cake is a lie the cake is a lie the cake is a lie the cake is a lie the cake is a lie the cake is a lie the cake is a lie the cake is a lie the cake is a lie the cake is a lie the cake is a lie the cake is a lie the cake is a lie the cake is a lie the cake is a lie the cake is a lie the cake is a lie the cake is a lie the cake is a lie the cake is a lie the cake is a lie the cake is a lie the cake is a lie the cake is a lie the cake is a lie the cake is a lie the cake is a lie the cake is a lie the cake is a lie the cake is a lie the cake is a lie the cake is a lie the cake is a lie the cake is a lie the cake is a lie the cake is a lie the cake is a lie the cake is a lie the cake is a lie the cake is a lie the cake is a lie the cake is a lie the cake is a lie the cake is a lie the cake is a lie the cake is a lie the cake is a lie the cake is a lie the cake is a lie the cake is a lie the cake is a lie the cake is a lie the cake is a lie the cake is a lie the cake is a lie the cake is a lie the cake is a lie the cake is a lie the cake is a lie the cake is a lie the cake is a lie the cake is a lie the cake is a lie the cake is a lie the cake is a lie the cake is a lie the cake is a lie the cake is a lie the cake is a lie the cake is a lie the cake is a lie the cake is a lie the cake is a lie the cake is a lie the cake is a lie the cake is a lie the cake is a lie the cake is a lie the cake is a lie the cake is a lie the cake is a lie the cake is a lie the cake is a lie the cake is a lie the cake is a lie'\n",
      " 'tits are good tits are good tits are good tits are good tits are good tits are good tits are good tits are good tits are good tits are good tits are good tits are good tits are good tits are good tits are good tits are good tits are good tits are good tits are good tits are good tits are good tits are good tits are good tits are good tits are good tits are good tits are good tits are good tits are good tits are good tits are good tits are good tits are good tits are good tits are good tits are good tits are good tits are good tits are good tits are good tits are good tits are good tits are good tits are good tits are good tits are good tits are good tits are good tits are good tits are good tits are good tits are good tits are good tits are good tits are good tits are good'\n",
      " 'fffff uuuuuu cccccc kkkkkk you f uu c kk you fffff uuuuuu cccccc kkkkkk you f uu c kk you fffff uuuuuu cccccc kkkkkk you f uu c kk you fffff uuuuuu cccccc kkkkkk you f uu c kk you fffff uuuuuu cccccc kkkkkk you f uu c kk you fffff uuuuuu cccccc kkkkkk you f uu c kk you fffff uuuuuu cccccc kkkkkk you f uu c kk you fffff uuuuuu cccccc kkkkkk you f uu c kk you fffff uuuuuu cccccc kkkkkk you f uu c kk you fffff uuuuuu cccccc kkkkkk you f uu c kk you fffff uuuuuu cccccc kkkkkk you f uu c kk you fffff uuuuuu cccccc kkkkkk you f uu c kk you fffff uuuuuu cccccc kkkkkk you f uu c kk you fffff uuuuuu cccccc kkkkkk you f uu c kk you fffff uuuuuu cccccc kkkkkk you f uu c kk you fffff uuuuuu cccccc kkkkkk you f uu c kk you fffff uuuuuu cccccc kkkkkk you f uu c kk you fffff uuuuuu cccccc kkkkkk you f uu c kk you fffff uuuuuu cccccc kkkkkk you f uu c kk you fffff uuuuuu cccccc kkkkkk you f uu c kk you fffff uuuuuu cccccc kkkkkk you f uu c kk you fffff uuuuuu cccccc kkkkkk you f uu c kk you fffff uuuuuu cccccc kkkkkk you f uu c kk you fffff uuuuuu cccccc kkkkkk you f uu c kk you fffff uuuuuu cccccc kkkkkk you f uu c kk you fffff uuuuuu cccccc kkkkkk you f uu c kk you fffff uuuuuu cccccc kkkkkk you f uu c kk you fffff uuuuuu cccccc kkkkkk you f uu c kk you fffff uuuuuu cccccc kkkkkk you f uu c kk you fffff uuuuuu cccccc kkkkkk you f uu c kk you fffff uuuuuu cccccc kkkkkk you f uu c kk you fffff uuuuuu cccccc kkkkkk you f uu c kk you fffff uuuuuu cccccc kkkkkk you f uu c kk you fffff uuuuuu cccccc kkkkkk you f uu c kk you fffff uuuuuu cccccc kkkkkk you f uu c kk you fffff uuuuuu cccccc kkkkkk you f uu c kk you fffff uuuuuu cccccc kkkkkk you f uu c kk you fffff uuuuuu cccccc kkkkkk you f uu c kk you fffff uuuuuu cccccc kkkkkk you f uu c kk you fffff uuuuuu cccccc kkkkkk you f uu c kk you fffff uuuuuu cccccc kkkkkk you f uu c kk you fffff uuuuuu cccccc kkkkkk you f uu c kk you fffff uuuuuu cccccc kkkkkk you f uu c kk you fffff uuuuuu cccccc kkkkkk you f uu c kk you fffff uuuuuu cccccc kkkkkk you f uu c kk you fffff uuuuuu cccccc kkkkkk you f uu c kk you fffff uuuuuu cccccc kkkkkk you f uu c kk you fffff uuuuuu cccccc kkkkkk you f uu c kk you fffff uuuuuu cccccc kkkkkk you f uu c kk you fffff uuuuuu cccccc kkkkkk you f uu c kk you fffff uuuuuu cccccc kkkkkk you f uu c kk you fffff uuuuuu cccccc kkkkkk you f uu c kk you fffff uuuuuu cccccc kkkkkk you f uu c kk you fffff uuuuuu cccccc kkkkkk you f uu c kk you fffff uuuuuu cccccc kkkkkk you f uu c kk you fffff uuuuuu cccccc kkkkkk you f uu c kk you fffff uuuuuu cccccc kkkkkk you f uu c kk you fffff uuuuuu cccccc kkkkkk you f uu c kk you fffff uuuuuu cccccc kkkkkk you f uu c kk you fffff uuuuuu cccccc kkkkkk you f uu c kk you fffff uuuuuu cccccc kkkkkk you f uu c kk you fffff uuuuuu cccccc kkkkkk you f uu c kk you fffff uuuuuu cccccc kkkkkk you f uu c kk you fffff uuuuuu cccccc kkkkkk you f uu c kk you fffff uuuuuu cccccc kkkkkk you f uu c kk you fffff uuuuuu cccccc kkkkkk you f uu c kk you fffff uuuuuu cccccc kkkkkk you f uu c kk you fffff uuuuuu cccccc kkkkkk you f uu c kk you fffff uuuuuu cccccc kkkkkk you f uu c kk you fffff uuuuuu cccccc kkkkkk you f uu c kk you fffff uuuuuu cccccc kkkkkk you f uu c kk you fffff uuuuuu cccccc kkkkkk you f uu c kk you fffff uuuuuu cccccc kkkkkk you f uu c kk you fffff uuuuuu cccccc kkkkkk you f uu c kk you fffff uuuuuu cccccc kkkkkk you f uu c kk you fffff uuuuuu cccccc kkkkkk you f uu c kk you fffff uuuuuu cccccc kkkkkk you f uu c kk you fffff uuuuuu cccccc kkkkkk you f uu c kk you fffff uuuuuu cccccc kkkkkk you f uu c kk you fffff uuuuuu cccccc kkkkkk you f uu c kk you fffff uuuuuu cccccc kkkkkk you f uu c kk you fffff uuuuuu cccccc kkkkkk you f uu c kk you fffff uuuuuu cccccc kkkkkk you f uu c kk you fffff uuuuuu cccccc kkkkkk you f uu c kk you ff']\n",
      "Some samples are ['fucked up gay motherfuckers gay fags raped my children and'\n",
      " 'dwyer ayden odwyer ayden odwyer ayden odwyer ayden odwyer ayden'\n",
      " 'queer ging to hell with a horsecock jamed down throat'\n",
      " 'fack you fack you fack you fack you fack you'\n",
      " 'fucking nigger bitch fuck you you fucking cunt rag burn']\n"
     ]
    },
    {
     "data": {
      "text/plain": [
       "array(['well my friend i wish you good luck in all your endeavors',\n",
       "       'a barnstar for you the good article ▁barn star for your contributions to bring voivode of transylvania to good article status thanks and keep up the good work',\n",
       "       'deleting it from this article was quite appropriate it has kept a creeping list that would have certainly sprawled over this entire article from stifling the rest of its content',\n",
       "       'talk p s why have you copied my username style exactly',\n",
       "       'electronic music article disambiguation reversions please stop if you continue to vandalize wikipedia you will be blocked from editing parsifal please stop reverting edits that are in consensus with months of comments and discussion on the subject please calm down take a break',\n",
       "       'first off it is not vandalism the number changed second be careful how you speak to me',\n",
       "       'youve got me there reverting biased views about two hms i see sounds like im the one who is biased christ take a break its getting to you',\n",
       "       'sorry you are not a new editor and you are not cleaning up ▁sin need',\n",
       "       'please do not vandalize pages as you did with this edit to buttock augmentation if you continue to do so you will be blocked from editing ▁blanchard b ▁my ears ▁my mouth timed',\n",
       "       'besides links from it to any stubs i make eg lely venus'],\n",
       "      dtype=object)"
      ]
     },
     "execution_count": 79,
     "metadata": {},
     "output_type": "execute_result"
    }
   ],
   "source": [
    "embed_file =\"glove.42B.300d.txt\"\n",
    "sp_file = \"en.wiki.bpe.vs200000.model\"\n",
    "\n",
    "train.comment_text = preprocess_text(train.comment_text, break_vocab_file=embed_file, break_sp_file=sp_file)\n",
    "test.comment_text = preprocess_text(test.comment_text, break_vocab_file=embed_file, break_sp_file=sp_file)\n",
    "train.comment_text.sample(10).values"
   ]
  },
  {
   "cell_type": "code",
   "execution_count": 80,
   "metadata": {},
   "outputs": [],
   "source": [
    "def remove_encoding_artifacts(series):\n",
    "    \"\"\"\n",
    "    Removes multiple encoding artifacts from the text.\n",
    "    \"\"\"\n",
    "    # Add patterns for all known artifacts\n",
    "    pattern = r'â–|â–|â€œ|â€|â€¦'\n",
    "    \n",
    "    # Replace all matches with an empty string\n",
    "    series = series.str.replace(pattern, '', regex=True)\n",
    "    return series\n",
    "\n",
    "train.comment_text = remove_encoding_artifacts(train.comment_text)\n",
    "test.comment_text = remove_encoding_artifacts(test.comment_text)"
   ]
  },
  {
   "cell_type": "code",
   "execution_count": null,
   "metadata": {},
   "outputs": [],
   "source": [
    "train.to_csv(\"train_preprocess.csv\", index=False)\n",
    "test.to_csv(\"test_preprocess.csv\", index=False)"
   ]
  }
 ],
 "metadata": {
  "kernelspec": {
   "display_name": "Python 3",
   "language": "python",
   "name": "python3"
  },
  "language_info": {
   "codemirror_mode": {
    "name": "ipython",
    "version": 3
   },
   "file_extension": ".py",
   "mimetype": "text/x-python",
   "name": "python",
   "nbconvert_exporter": "python",
   "pygments_lexer": "ipython3",
   "version": "3.11.9"
  }
 },
 "nbformat": 4,
 "nbformat_minor": 2
}
