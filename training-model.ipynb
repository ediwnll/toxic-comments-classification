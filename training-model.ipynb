{
 "cells": [
  {
   "cell_type": "code",
   "execution_count": 1,
   "metadata": {},
   "outputs": [
    {
     "name": "stdout",
     "output_type": "stream",
     "text": [
      "                 id                                       comment_text  toxic  \\\n",
      "0  0000997932d777bf  explanation why the edits made under my userna...      0   \n",
      "1  000103f0d9cfb60f  daww he matches this background colour im seem...      0   \n",
      "2  000113f07ec002fd  hey man im really not trying to edit war its j...      0   \n",
      "3  0001b41b1c6bb37e  more i cant make any real suggestions on impro...      0   \n",
      "4  0001d958c54c6e35  you sir are my hero any chance you remember wh...      0   \n",
      "\n",
      "   severe_toxic  obscene  threat  insult  identity_hate  \n",
      "0             0        0       0       0              0  \n",
      "1             0        0       0       0              0  \n",
      "2             0        0       0       0              0  \n",
      "3             0        0       0       0              0  \n",
      "4             0        0       0       0              0  \n",
      "                 id                                       comment_text\n",
      "0  00001cee341fdb12  yo bitch ja rule is more succesful then youll ...\n",
      "1  0000247867823ef7            from rfc the title is fine as it is imo\n",
      "2  00013b17ad220c46                     sources zawe ashton on lapland\n",
      "3  00017563c3f7919a  if you have a look back at the source the info...\n",
      "4  00017695ad8997eb            i dont anonymously edit articles at all\n"
     ]
    }
   ],
   "source": [
    "import pandas as pd\n",
    "\n",
    "df_train = pd.read_csv('train_preprocess_v3.csv')\n",
    "df_test = pd.read_csv('test_preprocess_v3.csv')\n",
    "\n",
    "print(df_train.head())\n",
    "print(df_test.head())"
   ]
  },
  {
   "cell_type": "code",
   "execution_count": 2,
   "metadata": {},
   "outputs": [
    {
     "name": "stdout",
     "output_type": "stream",
     "text": [
      "id                 0\n",
      "comment_text     102\n",
      "toxic              0\n",
      "severe_toxic       0\n",
      "obscene            0\n",
      "threat             0\n",
      "insult             0\n",
      "identity_hate      0\n",
      "dtype: int64\n",
      "id                0\n",
      "comment_text    906\n",
      "dtype: int64\n"
     ]
    }
   ],
   "source": [
    "# Checking for null values\n",
    "print(df_train.isnull().sum())\n",
    "print(df_test.isnull().sum())\n"
   ]
  },
  {
   "cell_type": "code",
   "execution_count": 3,
   "metadata": {},
   "outputs": [],
   "source": [
    "df_train = df_train.dropna(subset=['comment_text'])\n",
    "df_test = df_test.dropna(subset=['comment_text'])"
   ]
  },
  {
   "cell_type": "code",
   "execution_count": 4,
   "metadata": {},
   "outputs": [
    {
     "data": {
      "image/png": "[encoded data removed]",
      "text/plain": [
       "<Figure size 640x480 with 1 Axes>"
      ]
     },
     "metadata": {},
     "output_type": "display_data"
    }
   ],
   "source": [
    "import seaborn as sns\n",
    "import matplotlib.pyplot as plt\n",
    "\n",
    "labels = ['toxic', 'severe_toxic', 'obscene', 'threat', 'insult', 'identity_hate']\n",
    "train_labels = df_train[labels].sum().sort_values(ascending=False)\n",
    "sns.barplot(x = train_labels.values, y = train_labels.index)\n",
    "plt.title('Training Data Label Distribution')\n",
    "plt.xlabel('Number of Instances')\n",
    "plt.ylabel('Labels')\n",
    "plt.show()"
   ]
  },
  {
   "cell_type": "code",
   "execution_count": 5,
   "metadata": {},
   "outputs": [
    {
     "name": "stdout",
     "output_type": "stream",
     "text": [
      "\n",
      "Data type counts in 'comment_text':\n",
      "comment_text\n",
      "<class 'str'>    159469\n",
      "Name: count, dtype: int64\n",
      "\n",
      "Number of non-string 'comment_text' entries: 0\n",
      "Number of non-string 'comment_text' entries after cleaning: 0\n",
      "\n",
      "Data type counts in 'comment_text':\n",
      "comment_text\n",
      "<class 'str'>    152258\n",
      "Name: count, dtype: int64\n",
      "\n",
      "Number of non-string 'comment_text' entries: 0\n",
      "Number of non-string 'comment_text' entries after cleaning: 0\n"
     ]
    }
   ],
   "source": [
    "# For train data\n",
    "# Get a count of different data types within 'comment_text'\n",
    "print(\"\\nData type counts in 'comment_text':\")\n",
    "print(df_train['comment_text'].apply(type).value_counts())\n",
    "\n",
    "# Display the number of non-string entries\n",
    "non_string_count = df_train[~df_train['comment_text'].apply(lambda x: isinstance(x, str))].shape[0]\n",
    "print(f\"\\nNumber of non-string 'comment_text' entries: {non_string_count}\")\n",
    "\n",
    "# Remove rows where 'comment_text' is not a string\n",
    "train_df_cleaned = df_train[df_train['comment_text'].apply(lambda x: isinstance(x, str))].reset_index(drop=True)\n",
    "\n",
    "# Confirm removal\n",
    "non_string_count_after = train_df_cleaned[~train_df_cleaned['comment_text'].apply(lambda x: isinstance(x, str))].shape[0]\n",
    "print(f\"Number of non-string 'comment_text' entries after cleaning: {non_string_count_after}\")\n",
    "\n",
    "\n",
    "# For test data\n",
    "# Get a count of different data types within 'comment_text'\n",
    "print(\"\\nData type counts in 'comment_text':\")\n",
    "print(df_test['comment_text'].apply(type).value_counts())\n",
    "\n",
    "# Display the number of non-string entries\n",
    "non_string_count = df_test[~df_test['comment_text'].apply(lambda x: isinstance(x, str))].shape[0]\n",
    "print(f\"\\nNumber of non-string 'comment_text' entries: {non_string_count}\")\n",
    "\n",
    "# Remove rows where 'comment_text' is not a string\n",
    "df_test_cleaned = df_test[df_test['comment_text'].apply(lambda x: isinstance(x, str))].reset_index(drop=True)\n",
    "\n",
    "# Confirm removal\n",
    "non_string_count_after = df_test_cleaned[~df_test_cleaned['comment_text'].apply(lambda x: isinstance(x, str))].shape[0]\n",
    "print(f\"Number of non-string 'comment_text' entries after cleaning: {non_string_count_after}\")"
   ]
  },
  {
   "cell_type": "code",
   "execution_count": 6,
   "metadata": {},
   "outputs": [
    {
     "name": "stdout",
     "output_type": "stream",
     "text": [
      "Training samples: 127575\n",
      "Validation samples: 31894\n"
     ]
    }
   ],
   "source": [
    "# Splitting Data to train and validation\n",
    "from iterstrat.ml_stratifiers import MultilabelStratifiedShuffleSplit\n",
    "\n",
    "X = train_df_cleaned['comment_text'].values\n",
    "y = train_df_cleaned[labels].values\n",
    "\n",
    "mss = MultilabelStratifiedShuffleSplit(n_splits=1, test_size=0.2, random_state=41)\n",
    "\n",
    "for train_index, val_index in mss.split(X,y):\n",
    "    X_train, X_val = X[train_index], X[val_index]\n",
    "    y_train, y_val = y[train_index], y[val_index]\n",
    "print(f'Training samples: {len(X_train)}')\n",
    "print(f'Validation samples: {len(X_val)}')\n"
   ]
  },
  {
   "cell_type": "code",
   "execution_count": 7,
   "metadata": {},
   "outputs": [
    {
     "name": "stderr",
     "output_type": "stream",
     "text": [
      "Tokenizing: 100%|██████████| 128/128 [01:32<00:00,  1.38it/s]\n",
      "Tokenizing: 100%|██████████| 32/32 [00:23<00:00,  1.39it/s]\n",
      "Tokenizing: 100%|██████████| 153/153 [01:41<00:00,  1.50it/s]\n"
     ]
    }
   ],
   "source": [
    "from transformers import BertTokenizer\n",
    "import re\n",
    "import torch\n",
    "from tqdm import tqdm\n",
    "\n",
    "tokenizer = BertTokenizer.from_pretrained('bert-base-uncased')\n",
    "# Define maximum sequence length\n",
    "MAX_LENGTH = 128\n",
    "\n",
    "# def preprocess_text(text):\n",
    "#     # Remove HTML tags\n",
    "#     text = re.sub(r'<.*?>', '', text)\n",
    "#     # Remove URLs\n",
    "#     text = re.sub(r'http\\S+', '', text)\n",
    "#     # Remove special characters (optional)\n",
    "#     text = re.sub(r'[^A-Za-z0-9\\s]+', '', text)\n",
    "#     return text\n",
    "\n",
    "# Apply preprocessing\n",
    "X_train = [text for text in X_train]\n",
    "X_val = [text for text in X_val]\n",
    "test_comments = [text for text in df_test_cleaned['comment_text'].values]\n",
    "tokenizer = BertTokenizer.from_pretrained('bert-base-uncased')\n",
    "MAX_LENGTH = 128\n",
    "BATCH_SIZE = 1000  # Adjust based on your system's memory\n",
    "\n",
    "def batch_tokenize(texts, tokenizer, max_length, batch_size):\n",
    "    encodings = {\n",
    "        'input_ids': [],\n",
    "        'attention_mask': []\n",
    "    }\n",
    "    \n",
    "    for i in tqdm(range(0, len(texts), batch_size), desc=\"Tokenizing\"):\n",
    "        batch_texts = texts[i:i+batch_size]\n",
    "        batch_encodings = tokenizer(\n",
    "            batch_texts,\n",
    "            truncation=True,\n",
    "            padding='max_length',\n",
    "            max_length=max_length,\n",
    "            return_tensors='pt'\n",
    "        )\n",
    "        encodings['input_ids'].append(batch_encodings['input_ids'])\n",
    "        encodings['attention_mask'].append(batch_encodings['attention_mask'])\n",
    "    \n",
    "    # Concatenate all batches\n",
    "    encodings['input_ids'] = torch.cat(encodings['input_ids'])\n",
    "    encodings['attention_mask'] = torch.cat(encodings['attention_mask'])\n",
    "    \n",
    "    return encodings\n",
    "\n",
    "# Tokenize training and validation data\n",
    "train_encodings = batch_tokenize(X_train, tokenizer, MAX_LENGTH, BATCH_SIZE)\n",
    "val_encodings = batch_tokenize(X_val, tokenizer, MAX_LENGTH, BATCH_SIZE)\n",
    "test_encodings = batch_tokenize(test_comments, tokenizer, MAX_LENGTH, BATCH_SIZE)"
   ]
  },
  {
   "cell_type": "code",
   "execution_count": 8,
   "metadata": {},
   "outputs": [
    {
     "name": "stdout",
     "output_type": "stream",
     "text": [
      "True\n",
      "NVIDIA GeForce RTX 3060 Ti\n"
     ]
    }
   ],
   "source": [
    "import torch\n",
    "print(torch.cuda.is_available())  # Should return True\n",
    "print(torch.cuda.get_device_name(0))  # Prints your GPU name\n"
   ]
  },
  {
   "cell_type": "code",
   "execution_count": null,
   "metadata": {},
   "outputs": [
    {
     "name": "stdout",
     "output_type": "stream",
     "text": [
      "Class Weights: [1.8267286522083421, 3.9316335311711703, 2.3453971167444507, 5.123862690304606, 2.408905953466444, 4.056131052226914]\n"
     ]
    },
    {
     "name": "stderr",
     "output_type": "stream",
     "text": [
      "Some weights of BertForSequenceClassification were not initialized from the model checkpoint at bert-base-uncased and are newly initialized: ['classifier.bias', 'classifier.weight']\n",
      "You should probably TRAIN this model on a down-stream task to be able to use it for predictions and inference.\n"
     ]
    },
    {
     "name": "stdout",
     "output_type": "stream",
     "text": [
      "CUDA Available: True\n",
      "Model is on device: cuda:0\n",
      "Example tensor is on device: cpu\n",
      "Using device: cuda\n"
     ]
    },
    {
     "name": "stderr",
     "output_type": "stream",
     "text": [
      "c:\\Users\\hewzh\\Desktop\\Code\\Data Cleaning\\venv\\Lib\\site-packages\\transformers\\training_args.py:1575: FutureWarning: `evaluation_strategy` is deprecated and will be removed in version 4.46 of 🤗 Transformers. Use `eval_strategy` instead\n",
      "  warnings.warn(\n"
     ]
    }
   ],
   "source": [
    "# Creating Pytorch Datasets\n",
    "import torch\n",
    "import torch.utils\n",
    "from transformers import BertTokenizer, BertForSequenceClassification, Trainer, TrainingArguments\n",
    "from iterstrat.ml_stratifiers import MultilabelStratifiedShuffleSplit\n",
    "from sklearn.metrics import f1_score, precision_score, recall_score, roc_auc_score, average_precision_score\n",
    "from tqdm.auto import tqdm\n",
    "from transformers import EarlyStoppingCallback\n",
    "import numpy as np\n",
    "\n",
    "class ToxicDataset(torch.utils.data.Dataset):\n",
    "    def __init__(self, encodings, labels=None):\n",
    "        self.encodings = encodings\n",
    "        self.labels = labels  # None for test data\n",
    "\n",
    "    def __getitem__(self, idx):\n",
    "        item = {key: torch.tensor(val[idx]) for key, val in self.encodings.items()}\n",
    "        if self.labels is not None:\n",
    "            item['labels'] = torch.tensor(self.labels[idx], dtype=torch.float)\n",
    "        return item\n",
    "\n",
    "    def __len__(self):\n",
    "        return len(self.encodings['input_ids'])\n",
    "    \n",
    "train_dataset = ToxicDataset(train_encodings, y_train)\n",
    "val_dataset = ToxicDataset(val_encodings, y_val)\n",
    "test_dataset = ToxicDataset(test_encodings)  # No labels\n",
    "\n",
    "from sklearn.utils.class_weight import compute_class_weight\n",
    "\n",
    "class_weights = {}\n",
    "\n",
    "for i,label in enumerate(labels):\n",
    "    cw = compute_class_weight(\n",
    "        class_weight=\"balanced\",\n",
    "        classes= np.array([0,1]),\n",
    "        y=y_train[:,i]\n",
    "    )\n",
    "    class_weights[label] = np.log1p(cw[1])\n",
    "\n",
    "class_weights_list = [class_weights[label] for label in labels]\n",
    "print(\"Class Weights:\", class_weights_list)\n",
    "\n",
    "model = BertForSequenceClassification.from_pretrained('bert-base-uncased', num_labels = len(labels), problem_type=\"multi_label_classification\")\n",
    "device = torch.device('cuda') if torch.cuda.is_available() else torch.device('cpu')\n",
    "model.to(device)\n",
    "# 7. Define Metrics\n",
    "def compute_metrics(pred):\n",
    "    labels = pred.label_ids\n",
    "    preds = pred.predictions\n",
    "    probs = torch.sigmoid(torch.tensor(preds)).numpy()\n",
    "    binary_preds = (probs >= 0.5).astype(int)\n",
    "    \n",
    "    f1 = f1_score(labels, binary_preds, average='macro', zero_division=0)\n",
    "    precision = precision_score(labels, binary_preds, average='macro', zero_division=0)\n",
    "    recall = recall_score(labels, binary_preds, average='macro', zero_division=0)\n",
    "    auc = roc_auc_score(labels, probs, average='macro')\n",
    "    avg_precision = average_precision_score(labels, probs, average='macro')\n",
    "    \n",
    "    return {\n",
    "        'f1': f1,\n",
    "        'precision': precision,\n",
    "        'recall': recall,\n",
    "        'auc': auc,\n",
    "        'average_precision': avg_precision\n",
    "    }\n",
    "\n",
    "# 8. Set Up Training Arguments\n",
    "training_args = TrainingArguments(\n",
    "    output_dir='./results',                   # Output directory\n",
    "    num_train_epochs=7,                       # Number of training epochs\n",
    "    per_device_train_batch_size=32,           # Batch size per device during training\n",
    "    per_device_eval_batch_size=32,            # Batch size for evaluation\n",
    "    learning_rate=2e-5,  # Lower learning rate for fine-tuning\n",
    "    weight_decay=0.01,                        # Strength of weight decay\n",
    "    logging_dir='./logs',                     # Directory for storing logs\n",
    "    logging_steps=10,                         # Log every 10 steps\n",
    "    evaluation_strategy=\"epoch\",              # Evaluate at the end of each epoch\n",
    "    save_strategy=\"epoch\",                    # Save checkpoint at each epoch\n",
    "    load_best_model_at_end=True,              # Load the best model when finished training\n",
    "    metric_for_best_model=\"f1\",               # Best model is determined by the F1 score\n",
    "    greater_is_better=True,                   # Whether a higher metric score is better\n",
    "    save_total_limit=2,                       # Limit the total amount of checkpoints\n",
    "    seed=42,                                   # Random seed for reproducibility\n",
    "    fp16=True,                                 # Enable mixed precision training (requires compatible hardware)\n",
    "    report_to=\"tensorboard\",\n",
    "    max_grad_norm= 1.0\n",
    "    \n",
    ")\n",
    "\n",
    "import torch\n",
    "import torch.nn as nn\n",
    "\n",
    "class WeightedBCELoss(nn.Module):\n",
    "    def __init__(self, class_weights):\n",
    "        super(WeightedBCELoss, self).__init__()\n",
    "        # Convert class_weights to a tensor; don't move to device here\n",
    "        self.class_weights = torch.tensor(class_weights).float()\n",
    "\n",
    "    def forward(self, logits, targets):\n",
    "        # Ensure class_weights are on the same device as logits\n",
    "        self.class_weights = self.class_weights.to(logits.device)\n",
    "        # Compute Binary Cross-Entropy with Logits Loss without reduction\n",
    "        bce_loss = nn.BCEWithLogitsLoss(reduction='none')(logits, targets)\n",
    "        # Apply class weights\n",
    "        weighted_loss = bce_loss * self.class_weights\n",
    "        # Return the mean loss\n",
    "        return weighted_loss.mean()\n",
    "\n",
    "\n",
    "class WeightedTrainer(Trainer):\n",
    "    def __init__(self, *args, class_weights=None, **kwargs):\n",
    "        super().__init__(*args, **kwargs)\n",
    "        if class_weights is None:\n",
    "            raise ValueError(\"class_weights must be provided\")\n",
    "        self.weighted_loss = WeightedBCELoss(class_weights).to(self.model.device)\n",
    "\n",
    "    def compute_loss(self, model, inputs, return_outputs=False, **kwargs):\n",
    "        # Move inputs to the same device as the model\n",
    "        inputs = {key: val.to(model.device) for key, val in inputs.items() if isinstance(val, torch.Tensor)}\n",
    "        \n",
    "        labels = inputs.pop(\"labels\")  # Extract labels\n",
    "        outputs = model(**inputs)      # Forward pass\n",
    "        logits = outputs.logits        # Get logits from model outputs\n",
    "        \n",
    "        # Compute weighted loss\n",
    "        loss = self.weighted_loss(logits, labels)\n",
    "        # Debugging: Print device info\n",
    "        # print(f\"Logits device: {logits.device}\")\n",
    "        # print(f\"Labels device: {labels.device}\")\n",
    "        # print(f\"Class Weights device: {self.weighted_loss.class_weights.device}\")\n",
    "        return (loss, outputs) if return_outputs else loss\n",
    "\n",
    "\n",
    "import torch\n",
    "\n",
    "# Check if CUDA is available\n",
    "print(f\"CUDA Available: {torch.cuda.is_available()}\")\n",
    "\n",
    "# Check model's device\n",
    "print(f\"Model is on device: {next(model.parameters()).device}\")\n",
    "\n",
    "# Example tensor\n",
    "example_tensor = torch.tensor([1, 2, 3])\n",
    "print(f\"Example tensor is on device: {example_tensor.device}\")\n",
    "\n",
    "# Define device\n",
    "device = torch.device('cuda') if torch.cuda.is_available() else torch.device('cpu')\n",
    "print(f\"Using device: {device}\")\n",
    "\n",
    "\n"
   ]
  },
  {
   "cell_type": "code",
   "execution_count": 16,
   "metadata": {},
   "outputs": [
    {
     "data": {
      "application/vnd.jupyter.widget-view+json": {
       "model_id": "9cc4203d06284288ac07c3cd9df48603",
       "version_major": 2,
       "version_minor": 0
      },
      "text/plain": [
       "  0%|          | 0/27909 [00:00<?, ?it/s]"
      ]
     },
     "metadata": {},
     "output_type": "display_data"
    },
    {
     "name": "stderr",
     "output_type": "stream",
     "text": [
      "C:\\Users\\hewzh\\AppData\\Local\\Temp\\ipykernel_5460\\560306528.py:17: UserWarning: To copy construct from a tensor, it is recommended to use sourceTensor.clone().detach() or sourceTensor.clone().detach().requires_grad_(True), rather than torch.tensor(sourceTensor).\n",
      "  item = {key: torch.tensor(val[idx]) for key, val in self.encodings.items()}\n"
     ]
    },
    {
     "name": "stdout",
     "output_type": "stream",
     "text": [
      "{'loss': 2.2626, 'grad_norm': 10.384536743164062, 'learning_rate': 9.996775233795551e-06, 'epoch': 0.0}\n",
      "{'loss': 1.8668, 'grad_norm': 10.22737979888916, 'learning_rate': 9.99319216023505e-06, 'epoch': 0.01}\n",
      "{'loss': 1.4824, 'grad_norm': 7.818345546722412, 'learning_rate': 9.98960908667455e-06, 'epoch': 0.01}\n",
      "{'loss': 1.1957, 'grad_norm': 6.531576633453369, 'learning_rate': 9.98602601311405e-06, 'epoch': 0.01}\n",
      "{'loss': 0.9543, 'grad_norm': 4.751241683959961, 'learning_rate': 9.982442939553549e-06, 'epoch': 0.01}\n",
      "{'loss': 0.7525, 'grad_norm': 3.154741048812866, 'learning_rate': 9.97885986599305e-06, 'epoch': 0.02}\n",
      "{'loss': 0.6331, 'grad_norm': 2.6958231925964355, 'learning_rate': 9.97527679243255e-06, 'epoch': 0.02}\n",
      "{'loss': 0.5732, 'grad_norm': 2.519179105758667, 'learning_rate': 9.97169371887205e-06, 'epoch': 0.02}\n",
      "{'loss': 0.4526, 'grad_norm': 1.5121499300003052, 'learning_rate': 9.968110645311549e-06, 'epoch': 0.02}\n",
      "{'loss': 0.461, 'grad_norm': 1.6681212186813354, 'learning_rate': 9.964527571751049e-06, 'epoch': 0.03}\n",
      "{'loss': 0.4028, 'grad_norm': 1.1517534255981445, 'learning_rate': 9.96094449819055e-06, 'epoch': 0.03}\n",
      "{'loss': 0.408, 'grad_norm': 1.5680514574050903, 'learning_rate': 9.957361424630048e-06, 'epoch': 0.03}\n",
      "{'loss': 0.3083, 'grad_norm': 1.4182932376861572, 'learning_rate': 9.953778351069548e-06, 'epoch': 0.03}\n",
      "{'loss': 0.3776, 'grad_norm': 1.9216582775115967, 'learning_rate': 9.950195277509049e-06, 'epoch': 0.04}\n",
      "{'loss': 0.2923, 'grad_norm': 1.2873961925506592, 'learning_rate': 9.946612203948547e-06, 'epoch': 0.04}\n",
      "{'loss': 0.2983, 'grad_norm': 1.9945160150527954, 'learning_rate': 9.943029130388048e-06, 'epoch': 0.04}\n",
      "{'loss': 0.2609, 'grad_norm': 1.2764191627502441, 'learning_rate': 9.939446056827548e-06, 'epoch': 0.04}\n",
      "{'loss': 0.2853, 'grad_norm': 1.7250267267227173, 'learning_rate': 9.935862983267047e-06, 'epoch': 0.05}\n",
      "{'loss': 0.2922, 'grad_norm': 3.869218111038208, 'learning_rate': 9.932279909706547e-06, 'epoch': 0.05}\n",
      "{'loss': 0.2252, 'grad_norm': 0.8851428031921387, 'learning_rate': 9.928696836146047e-06, 'epoch': 0.05}\n",
      "{'loss': 0.2305, 'grad_norm': 2.062525749206543, 'learning_rate': 9.925113762585546e-06, 'epoch': 0.05}\n",
      "{'loss': 0.1794, 'grad_norm': 1.1673927307128906, 'learning_rate': 9.921530689025046e-06, 'epoch': 0.06}\n",
      "{'loss': 0.231, 'grad_norm': 1.6016943454742432, 'learning_rate': 9.917947615464547e-06, 'epoch': 0.06}\n",
      "{'loss': 0.2366, 'grad_norm': 1.688332438468933, 'learning_rate': 9.914364541904045e-06, 'epoch': 0.06}\n",
      "{'loss': 0.2556, 'grad_norm': 2.769545793533325, 'learning_rate': 9.910781468343546e-06, 'epoch': 0.06}\n"
     ]
    },
    {
     "ename": "KeyboardInterrupt",
     "evalue": "",
     "output_type": "error",
     "traceback": [
      "\u001b[1;31m---------------------------------------------------------------------------\u001b[0m",
      "\u001b[1;31mKeyboardInterrupt\u001b[0m                         Traceback (most recent call last)",
      "Cell \u001b[1;32mIn[16], line 13\u001b[0m\n\u001b[0;32m      3\u001b[0m trainer \u001b[38;5;241m=\u001b[39m WeightedTrainer(\n\u001b[0;32m      4\u001b[0m     model\u001b[38;5;241m=\u001b[39mmodel,                             \u001b[38;5;66;03m# The instantiated Transformers model to be trained\u001b[39;00m\n\u001b[0;32m      5\u001b[0m     args\u001b[38;5;241m=\u001b[39mtraining_args,                      \u001b[38;5;66;03m# Training arguments, defined above\u001b[39;00m\n\u001b[1;32m   (...)\u001b[0m\n\u001b[0;32m      9\u001b[0m     class_weights\u001b[38;5;241m=\u001b[39mclass_weights_list\n\u001b[0;32m     10\u001b[0m )\n\u001b[0;32m     12\u001b[0m \u001b[38;5;66;03m# 10. Start Training\u001b[39;00m\n\u001b[1;32m---> 13\u001b[0m \u001b[43mtrainer\u001b[49m\u001b[38;5;241;43m.\u001b[39;49m\u001b[43mtrain\u001b[49m\u001b[43m(\u001b[49m\u001b[43m)\u001b[49m\n",
      "File \u001b[1;32mc:\\Users\\hewzh\\Desktop\\Code\\Data Cleaning\\venv\\Lib\\site-packages\\transformers\\trainer.py:2164\u001b[0m, in \u001b[0;36mTrainer.train\u001b[1;34m(self, resume_from_checkpoint, trial, ignore_keys_for_eval, **kwargs)\u001b[0m\n\u001b[0;32m   2162\u001b[0m         hf_hub_utils\u001b[38;5;241m.\u001b[39menable_progress_bars()\n\u001b[0;32m   2163\u001b[0m \u001b[38;5;28;01melse\u001b[39;00m:\n\u001b[1;32m-> 2164\u001b[0m     \u001b[38;5;28;01mreturn\u001b[39;00m \u001b[43minner_training_loop\u001b[49m\u001b[43m(\u001b[49m\n\u001b[0;32m   2165\u001b[0m \u001b[43m        \u001b[49m\u001b[43margs\u001b[49m\u001b[38;5;241;43m=\u001b[39;49m\u001b[43margs\u001b[49m\u001b[43m,\u001b[49m\n\u001b[0;32m   2166\u001b[0m \u001b[43m        \u001b[49m\u001b[43mresume_from_checkpoint\u001b[49m\u001b[38;5;241;43m=\u001b[39;49m\u001b[43mresume_from_checkpoint\u001b[49m\u001b[43m,\u001b[49m\n\u001b[0;32m   2167\u001b[0m \u001b[43m        \u001b[49m\u001b[43mtrial\u001b[49m\u001b[38;5;241;43m=\u001b[39;49m\u001b[43mtrial\u001b[49m\u001b[43m,\u001b[49m\n\u001b[0;32m   2168\u001b[0m \u001b[43m        \u001b[49m\u001b[43mignore_keys_for_eval\u001b[49m\u001b[38;5;241;43m=\u001b[39;49m\u001b[43mignore_keys_for_eval\u001b[49m\u001b[43m,\u001b[49m\n\u001b[0;32m   2169\u001b[0m \u001b[43m    \u001b[49m\u001b[43m)\u001b[49m\n",
      "File \u001b[1;32mc:\\Users\\hewzh\\Desktop\\Code\\Data Cleaning\\venv\\Lib\\site-packages\\transformers\\trainer.py:2524\u001b[0m, in \u001b[0;36mTrainer._inner_training_loop\u001b[1;34m(self, batch_size, args, resume_from_checkpoint, trial, ignore_keys_for_eval)\u001b[0m\n\u001b[0;32m   2517\u001b[0m context \u001b[38;5;241m=\u001b[39m (\n\u001b[0;32m   2518\u001b[0m     functools\u001b[38;5;241m.\u001b[39mpartial(\u001b[38;5;28mself\u001b[39m\u001b[38;5;241m.\u001b[39maccelerator\u001b[38;5;241m.\u001b[39mno_sync, model\u001b[38;5;241m=\u001b[39mmodel)\n\u001b[0;32m   2519\u001b[0m     \u001b[38;5;28;01mif\u001b[39;00m i \u001b[38;5;241m!=\u001b[39m \u001b[38;5;28mlen\u001b[39m(batch_samples) \u001b[38;5;241m-\u001b[39m \u001b[38;5;241m1\u001b[39m\n\u001b[0;32m   2520\u001b[0m     \u001b[38;5;129;01mand\u001b[39;00m \u001b[38;5;28mself\u001b[39m\u001b[38;5;241m.\u001b[39maccelerator\u001b[38;5;241m.\u001b[39mdistributed_type \u001b[38;5;241m!=\u001b[39m DistributedType\u001b[38;5;241m.\u001b[39mDEEPSPEED\n\u001b[0;32m   2521\u001b[0m     \u001b[38;5;28;01melse\u001b[39;00m contextlib\u001b[38;5;241m.\u001b[39mnullcontext\n\u001b[0;32m   2522\u001b[0m )\n\u001b[0;32m   2523\u001b[0m \u001b[38;5;28;01mwith\u001b[39;00m context():\n\u001b[1;32m-> 2524\u001b[0m     tr_loss_step \u001b[38;5;241m=\u001b[39m \u001b[38;5;28;43mself\u001b[39;49m\u001b[38;5;241;43m.\u001b[39;49m\u001b[43mtraining_step\u001b[49m\u001b[43m(\u001b[49m\u001b[43mmodel\u001b[49m\u001b[43m,\u001b[49m\u001b[43m \u001b[49m\u001b[43minputs\u001b[49m\u001b[43m,\u001b[49m\u001b[43m \u001b[49m\u001b[43mnum_items_in_batch\u001b[49m\u001b[43m)\u001b[49m\n\u001b[0;32m   2526\u001b[0m \u001b[38;5;28;01mif\u001b[39;00m (\n\u001b[0;32m   2527\u001b[0m     args\u001b[38;5;241m.\u001b[39mlogging_nan_inf_filter\n\u001b[0;32m   2528\u001b[0m     \u001b[38;5;129;01mand\u001b[39;00m \u001b[38;5;129;01mnot\u001b[39;00m is_torch_xla_available()\n\u001b[0;32m   2529\u001b[0m     \u001b[38;5;129;01mand\u001b[39;00m (torch\u001b[38;5;241m.\u001b[39misnan(tr_loss_step) \u001b[38;5;129;01mor\u001b[39;00m torch\u001b[38;5;241m.\u001b[39misinf(tr_loss_step))\n\u001b[0;32m   2530\u001b[0m ):\n\u001b[0;32m   2531\u001b[0m     \u001b[38;5;66;03m# if loss is nan or inf simply add the average of previous logged losses\u001b[39;00m\n\u001b[0;32m   2532\u001b[0m     tr_loss \u001b[38;5;241m=\u001b[39m tr_loss \u001b[38;5;241m+\u001b[39m tr_loss \u001b[38;5;241m/\u001b[39m (\u001b[38;5;241m1\u001b[39m \u001b[38;5;241m+\u001b[39m \u001b[38;5;28mself\u001b[39m\u001b[38;5;241m.\u001b[39mstate\u001b[38;5;241m.\u001b[39mglobal_step \u001b[38;5;241m-\u001b[39m \u001b[38;5;28mself\u001b[39m\u001b[38;5;241m.\u001b[39m_globalstep_last_logged)\n",
      "File \u001b[1;32mc:\\Users\\hewzh\\Desktop\\Code\\Data Cleaning\\venv\\Lib\\site-packages\\transformers\\trainer.py:3687\u001b[0m, in \u001b[0;36mTrainer.training_step\u001b[1;34m(***failed resolving arguments***)\u001b[0m\n\u001b[0;32m   3685\u001b[0m         scaled_loss\u001b[38;5;241m.\u001b[39mbackward()\n\u001b[0;32m   3686\u001b[0m \u001b[38;5;28;01melse\u001b[39;00m:\n\u001b[1;32m-> 3687\u001b[0m     \u001b[38;5;28;43mself\u001b[39;49m\u001b[38;5;241;43m.\u001b[39;49m\u001b[43maccelerator\u001b[49m\u001b[38;5;241;43m.\u001b[39;49m\u001b[43mbackward\u001b[49m\u001b[43m(\u001b[49m\u001b[43mloss\u001b[49m\u001b[43m,\u001b[49m\u001b[43m \u001b[49m\u001b[38;5;241;43m*\u001b[39;49m\u001b[38;5;241;43m*\u001b[39;49m\u001b[43mkwargs\u001b[49m\u001b[43m)\u001b[49m\n\u001b[0;32m   3688\u001b[0m     \u001b[38;5;66;03m# Finally we need to normalize the loss for reporting\u001b[39;00m\n\u001b[0;32m   3689\u001b[0m     \u001b[38;5;28;01mif\u001b[39;00m num_items_in_batch \u001b[38;5;129;01mis\u001b[39;00m \u001b[38;5;28;01mNone\u001b[39;00m:\n",
      "File \u001b[1;32mc:\\Users\\hewzh\\Desktop\\Code\\Data Cleaning\\venv\\Lib\\site-packages\\accelerate\\accelerator.py:2244\u001b[0m, in \u001b[0;36mAccelerator.backward\u001b[1;34m(self, loss, **kwargs)\u001b[0m\n\u001b[0;32m   2242\u001b[0m     \u001b[38;5;28;01mreturn\u001b[39;00m\n\u001b[0;32m   2243\u001b[0m \u001b[38;5;28;01melif\u001b[39;00m \u001b[38;5;28mself\u001b[39m\u001b[38;5;241m.\u001b[39mscaler \u001b[38;5;129;01mis\u001b[39;00m \u001b[38;5;129;01mnot\u001b[39;00m \u001b[38;5;28;01mNone\u001b[39;00m:\n\u001b[1;32m-> 2244\u001b[0m     \u001b[38;5;28;43mself\u001b[39;49m\u001b[38;5;241;43m.\u001b[39;49m\u001b[43mscaler\u001b[49m\u001b[38;5;241;43m.\u001b[39;49m\u001b[43mscale\u001b[49m\u001b[43m(\u001b[49m\u001b[43mloss\u001b[49m\u001b[43m)\u001b[49m\u001b[38;5;241;43m.\u001b[39;49m\u001b[43mbackward\u001b[49m\u001b[43m(\u001b[49m\u001b[38;5;241;43m*\u001b[39;49m\u001b[38;5;241;43m*\u001b[39;49m\u001b[43mkwargs\u001b[49m\u001b[43m)\u001b[49m\n\u001b[0;32m   2245\u001b[0m \u001b[38;5;28;01melif\u001b[39;00m learning_rate \u001b[38;5;129;01mis\u001b[39;00m \u001b[38;5;129;01mnot\u001b[39;00m \u001b[38;5;28;01mNone\u001b[39;00m \u001b[38;5;129;01mand\u001b[39;00m \u001b[38;5;28mself\u001b[39m\u001b[38;5;241m.\u001b[39mhas_lomo_optimizer:\n\u001b[0;32m   2246\u001b[0m     \u001b[38;5;28mself\u001b[39m\u001b[38;5;241m.\u001b[39mlomo_backward(loss, learning_rate)\n",
      "File \u001b[1;32mc:\\Users\\hewzh\\Desktop\\Code\\Data Cleaning\\venv\\Lib\\site-packages\\torch\\_tensor.py:581\u001b[0m, in \u001b[0;36mTensor.backward\u001b[1;34m(self, gradient, retain_graph, create_graph, inputs)\u001b[0m\n\u001b[0;32m    571\u001b[0m \u001b[38;5;28;01mif\u001b[39;00m has_torch_function_unary(\u001b[38;5;28mself\u001b[39m):\n\u001b[0;32m    572\u001b[0m     \u001b[38;5;28;01mreturn\u001b[39;00m handle_torch_function(\n\u001b[0;32m    573\u001b[0m         Tensor\u001b[38;5;241m.\u001b[39mbackward,\n\u001b[0;32m    574\u001b[0m         (\u001b[38;5;28mself\u001b[39m,),\n\u001b[1;32m   (...)\u001b[0m\n\u001b[0;32m    579\u001b[0m         inputs\u001b[38;5;241m=\u001b[39minputs,\n\u001b[0;32m    580\u001b[0m     )\n\u001b[1;32m--> 581\u001b[0m \u001b[43mtorch\u001b[49m\u001b[38;5;241;43m.\u001b[39;49m\u001b[43mautograd\u001b[49m\u001b[38;5;241;43m.\u001b[39;49m\u001b[43mbackward\u001b[49m\u001b[43m(\u001b[49m\n\u001b[0;32m    582\u001b[0m \u001b[43m    \u001b[49m\u001b[38;5;28;43mself\u001b[39;49m\u001b[43m,\u001b[49m\u001b[43m \u001b[49m\u001b[43mgradient\u001b[49m\u001b[43m,\u001b[49m\u001b[43m \u001b[49m\u001b[43mretain_graph\u001b[49m\u001b[43m,\u001b[49m\u001b[43m \u001b[49m\u001b[43mcreate_graph\u001b[49m\u001b[43m,\u001b[49m\u001b[43m \u001b[49m\u001b[43minputs\u001b[49m\u001b[38;5;241;43m=\u001b[39;49m\u001b[43minputs\u001b[49m\n\u001b[0;32m    583\u001b[0m \u001b[43m\u001b[49m\u001b[43m)\u001b[49m\n",
      "File \u001b[1;32mc:\\Users\\hewzh\\Desktop\\Code\\Data Cleaning\\venv\\Lib\\site-packages\\torch\\autograd\\__init__.py:347\u001b[0m, in \u001b[0;36mbackward\u001b[1;34m(tensors, grad_tensors, retain_graph, create_graph, grad_variables, inputs)\u001b[0m\n\u001b[0;32m    342\u001b[0m     retain_graph \u001b[38;5;241m=\u001b[39m create_graph\n\u001b[0;32m    344\u001b[0m \u001b[38;5;66;03m# The reason we repeat the same comment below is that\u001b[39;00m\n\u001b[0;32m    345\u001b[0m \u001b[38;5;66;03m# some Python versions print out the first line of a multi-line function\u001b[39;00m\n\u001b[0;32m    346\u001b[0m \u001b[38;5;66;03m# calls in the traceback and some print out the last line\u001b[39;00m\n\u001b[1;32m--> 347\u001b[0m \u001b[43m_engine_run_backward\u001b[49m\u001b[43m(\u001b[49m\n\u001b[0;32m    348\u001b[0m \u001b[43m    \u001b[49m\u001b[43mtensors\u001b[49m\u001b[43m,\u001b[49m\n\u001b[0;32m    349\u001b[0m \u001b[43m    \u001b[49m\u001b[43mgrad_tensors_\u001b[49m\u001b[43m,\u001b[49m\n\u001b[0;32m    350\u001b[0m \u001b[43m    \u001b[49m\u001b[43mretain_graph\u001b[49m\u001b[43m,\u001b[49m\n\u001b[0;32m    351\u001b[0m \u001b[43m    \u001b[49m\u001b[43mcreate_graph\u001b[49m\u001b[43m,\u001b[49m\n\u001b[0;32m    352\u001b[0m \u001b[43m    \u001b[49m\u001b[43minputs\u001b[49m\u001b[43m,\u001b[49m\n\u001b[0;32m    353\u001b[0m \u001b[43m    \u001b[49m\u001b[43mallow_unreachable\u001b[49m\u001b[38;5;241;43m=\u001b[39;49m\u001b[38;5;28;43;01mTrue\u001b[39;49;00m\u001b[43m,\u001b[49m\n\u001b[0;32m    354\u001b[0m \u001b[43m    \u001b[49m\u001b[43maccumulate_grad\u001b[49m\u001b[38;5;241;43m=\u001b[39;49m\u001b[38;5;28;43;01mTrue\u001b[39;49;00m\u001b[43m,\u001b[49m\n\u001b[0;32m    355\u001b[0m \u001b[43m\u001b[49m\u001b[43m)\u001b[49m\n",
      "File \u001b[1;32mc:\\Users\\hewzh\\Desktop\\Code\\Data Cleaning\\venv\\Lib\\site-packages\\torch\\autograd\\graph.py:825\u001b[0m, in \u001b[0;36m_engine_run_backward\u001b[1;34m(t_outputs, *args, **kwargs)\u001b[0m\n\u001b[0;32m    823\u001b[0m     unregister_hooks \u001b[38;5;241m=\u001b[39m _register_logging_hooks_on_whole_graph(t_outputs)\n\u001b[0;32m    824\u001b[0m \u001b[38;5;28;01mtry\u001b[39;00m:\n\u001b[1;32m--> 825\u001b[0m     \u001b[38;5;28;01mreturn\u001b[39;00m \u001b[43mVariable\u001b[49m\u001b[38;5;241;43m.\u001b[39;49m\u001b[43m_execution_engine\u001b[49m\u001b[38;5;241;43m.\u001b[39;49m\u001b[43mrun_backward\u001b[49m\u001b[43m(\u001b[49m\u001b[43m  \u001b[49m\u001b[38;5;66;43;03m# Calls into the C++ engine to run the backward pass\u001b[39;49;00m\n\u001b[0;32m    826\u001b[0m \u001b[43m        \u001b[49m\u001b[43mt_outputs\u001b[49m\u001b[43m,\u001b[49m\u001b[43m \u001b[49m\u001b[38;5;241;43m*\u001b[39;49m\u001b[43margs\u001b[49m\u001b[43m,\u001b[49m\u001b[43m \u001b[49m\u001b[38;5;241;43m*\u001b[39;49m\u001b[38;5;241;43m*\u001b[39;49m\u001b[43mkwargs\u001b[49m\n\u001b[0;32m    827\u001b[0m \u001b[43m    \u001b[49m\u001b[43m)\u001b[49m  \u001b[38;5;66;03m# Calls into the C++ engine to run the backward pass\u001b[39;00m\n\u001b[0;32m    828\u001b[0m \u001b[38;5;28;01mfinally\u001b[39;00m:\n\u001b[0;32m    829\u001b[0m     \u001b[38;5;28;01mif\u001b[39;00m attach_logging_hooks:\n",
      "\u001b[1;31mKeyboardInterrupt\u001b[0m: "
     ]
    }
   ],
   "source": [
    "from transformers import Trainer\n",
    "#8. Trainer arguments\n",
    "trainer = WeightedTrainer(\n",
    "    model=model,                             # The instantiated Transformers model to be trained\n",
    "    args=training_args,                      # Training arguments, defined above\n",
    "    train_dataset=train_dataset,             # Training dataset\n",
    "    eval_dataset=val_dataset,                # Evaluation dataset\n",
    "    compute_metrics=compute_metrics,         # Function to compute metrics\n",
    "    class_weights=class_weights_list\n",
    ")\n",
    "\n",
    "# 10. Start Training\n",
    "trainer.train()"
   ]
  },
  {
   "cell_type": "code",
   "execution_count": 13,
   "metadata": {},
   "outputs": [
    {
     "name": "stderr",
     "output_type": "stream",
     "text": [
      "C:\\Users\\hewzh\\AppData\\Local\\Temp\\ipykernel_5460\\1797872413.py:17: UserWarning: To copy construct from a tensor, it is recommended to use sourceTensor.clone().detach() or sourceTensor.clone().detach().requires_grad_(True), rather than torch.tensor(sourceTensor).\n",
      "  item = {key: torch.tensor(val[idx]) for key, val in self.encodings.items()}\n"
     ]
    },
    {
     "data": {
      "application/vnd.jupyter.widget-view+json": {
       "model_id": "6bc0881b62064d36a356b4e740e6e1f7",
       "version_major": 2,
       "version_minor": 0
      },
      "text/plain": [
       "  0%|          | 0/997 [00:00<?, ?it/s]"
      ]
     },
     "metadata": {},
     "output_type": "display_data"
    },
    {
     "name": "stdout",
     "output_type": "stream",
     "text": [
      "Evaluation Results:\n",
      "eval_loss: 0.1434\n",
      "eval_f1: 0.3841\n",
      "eval_precision: 0.3605\n",
      "eval_recall: 0.4122\n",
      "eval_auc: 0.9664\n",
      "eval_average_precision: 0.5360\n",
      "eval_runtime: 42.4806\n",
      "eval_samples_per_second: 750.7890\n",
      "eval_steps_per_second: 23.4700\n",
      "epoch: 0.1756\n"
     ]
    }
   ],
   "source": [
    "# 11. Evaluate Model\n",
    "results = trainer.evaluate()\n",
    "print(\"Evaluation Results:\")\n",
    "for key, value in results.items():\n",
    "    print(f\"{key}: {value:.4f}\")"
   ]
  },
  {
   "cell_type": "code",
   "execution_count": 24,
   "metadata": {},
   "outputs": [
    {
     "data": {
      "text/plain": [
       "('./final_model2\\\\tokenizer_config.json',\n",
       " './final_model2\\\\special_tokens_map.json',\n",
       " './final_model2\\\\vocab.txt',\n",
       " './final_model2\\\\added_tokens.json')"
      ]
     },
     "execution_count": 24,
     "metadata": {},
     "output_type": "execute_result"
    }
   ],
   "source": [
    "trainer.save_model(\"./final_model3\")  # Saves the model and tokenizer\n",
    "tokenizer.save_pretrained(\"./final_model3\")  # Optional: Save tokenizer separately"
   ]
  },
  {
   "cell_type": "code",
   "execution_count": 13,
   "metadata": {},
   "outputs": [
    {
     "name": "stdout",
     "output_type": "stream",
     "text": [
      "CUDA Available: True\n",
      "Model is on device: cuda:0\n",
      "Example tensor is on device: cpu\n"
     ]
    }
   ],
   "source": [
    "import numpy as np\n",
    "from sklearn.metrics import confusion_matrix\n",
    "\n",
    "# Assuming you are using Hugging Face's Trainer\n",
    "outputs = trainer.predict(val_dataset)  # Evaluate on the validation dataset\n",
    "\n",
    "# Extract predictions and true labels\n",
    "predictions = outputs.predictions  # Raw logits\n",
    "true_labels = outputs.label_ids     # True labels from the dataset\n",
    "\n",
    "# Convert logits to probabilities\n",
    "probabilities = torch.sigmoid(torch.tensor(predictions)).numpy()\n",
    "\n",
    "# Convert probabilities to binary predictions (threshold = 0.5 by default)\n",
    "binary_predictions = (probabilities >= 0.5).astype(int)\n"
   ]
  },
  {
   "cell_type": "code",
   "execution_count": null,
   "metadata": {},
   "outputs": [],
   "source": [
    "import matplotlib.pyplot as plt\n",
    "import seaborn as sns\n",
    "\n",
    "# Compute confusion matrices for each label\n",
    "confusion_matrices = {}\n",
    "for i, label in enumerate(labels):\n",
    "    cm = confusion_matrix(true_labels[:, i], binary_predictions[:, i])\n",
    "    confusion_matrices[label] = cm\n",
    "\n",
    "# Display confusion matrices\n",
    "for label, cm in confusion_matrices.items():\n",
    "    plt.figure(figsize=(5, 5))\n",
    "    sns.heatmap(cm, annot=True, fmt='d', cmap='Blues', xticklabels=[\"Negative\", \"Positive\"], yticklabels=[\"Negative\", \"Positive\"])\n",
    "    plt.title(f\"Confusion Matrix for {label}\")\n",
    "    plt.xlabel(\"Predicted\")\n",
    "    plt.ylabel(\"Actual\")\n",
    "    plt.show()\n",
    "\n",
    "from sklearn.metrics import precision_score, recall_score, f1_score\n",
    "\n",
    "# Compute metrics for each label\n",
    "for i, label in enumerate(labels):\n",
    "    precision = precision_score(true_labels[:, i], binary_predictions[:, i], zero_division=0)\n",
    "    recall = recall_score(true_labels[:, i], binary_predictions[:, i], zero_division=0)\n",
    "    f1 = f1_score(true_labels[:, i], binary_predictions[:, i], zero_division=0)\n",
    "    print(f\"Metrics for {label}: Precision={precision:.2f}, Recall={recall:.2f}, F1={f1:.2f}\")\n",
    "\n"
   ]
  },
  {
   "cell_type": "code",
   "execution_count": 16,
   "metadata": {},
   "outputs": [
    {
     "name": "stdout",
     "output_type": "stream",
     "text": [
      "Using device: cuda\n"
     ]
    },
    {
     "data": {
      "text/plain": [
       "BertForSequenceClassification(\n",
       "  (bert): BertModel(\n",
       "    (embeddings): BertEmbeddings(\n",
       "      (word_embeddings): Embedding(30522, 768, padding_idx=0)\n",
       "      (position_embeddings): Embedding(512, 768)\n",
       "      (token_type_embeddings): Embedding(2, 768)\n",
       "      (LayerNorm): LayerNorm((768,), eps=1e-12, elementwise_affine=True)\n",
       "      (dropout): Dropout(p=0.1, inplace=False)\n",
       "    )\n",
       "    (encoder): BertEncoder(\n",
       "      (layer): ModuleList(\n",
       "        (0-11): 12 x BertLayer(\n",
       "          (attention): BertAttention(\n",
       "            (self): BertSdpaSelfAttention(\n",
       "              (query): Linear(in_features=768, out_features=768, bias=True)\n",
       "              (key): Linear(in_features=768, out_features=768, bias=True)\n",
       "              (value): Linear(in_features=768, out_features=768, bias=True)\n",
       "              (dropout): Dropout(p=0.1, inplace=False)\n",
       "            )\n",
       "            (output): BertSelfOutput(\n",
       "              (dense): Linear(in_features=768, out_features=768, bias=True)\n",
       "              (LayerNorm): LayerNorm((768,), eps=1e-12, elementwise_affine=True)\n",
       "              (dropout): Dropout(p=0.1, inplace=False)\n",
       "            )\n",
       "          )\n",
       "          (intermediate): BertIntermediate(\n",
       "            (dense): Linear(in_features=768, out_features=3072, bias=True)\n",
       "            (intermediate_act_fn): GELUActivation()\n",
       "          )\n",
       "          (output): BertOutput(\n",
       "            (dense): Linear(in_features=3072, out_features=768, bias=True)\n",
       "            (LayerNorm): LayerNorm((768,), eps=1e-12, elementwise_affine=True)\n",
       "            (dropout): Dropout(p=0.1, inplace=False)\n",
       "          )\n",
       "        )\n",
       "      )\n",
       "    )\n",
       "    (pooler): BertPooler(\n",
       "      (dense): Linear(in_features=768, out_features=768, bias=True)\n",
       "      (activation): Tanh()\n",
       "    )\n",
       "  )\n",
       "  (dropout): Dropout(p=0.1, inplace=False)\n",
       "  (classifier): Linear(in_features=768, out_features=6, bias=True)\n",
       ")"
      ]
     },
     "execution_count": 16,
     "metadata": {},
     "output_type": "execute_result"
    }
   ],
   "source": [
    "\n",
    "\n",
    "\n",
    "# # Load tokenizer and model\n",
    "# tokenizer = BertTokenizer.from_pretrained('./final_model2')\n",
    "# model = BertForSequenceClassification.from_pretrained('./final_model2')\n",
    "# model.eval()  # Set to evaluation mode\n",
    "\n",
    "\n"
   ]
  },
  {
   "cell_type": "code",
   "execution_count": null,
   "metadata": {},
   "outputs": [
    {
     "name": "stdout",
     "output_type": "stream",
     "text": [
      "Predictions saved to 'test_predictions.csv'\n"
     ]
    }
   ],
   "source": [
    "# test_comments = df_test_cleaned['comment_text'].tolist()\n",
    "# # Define prediction function\n",
    "# def predict(text, tokenizer, model, device, max_length=128):\n",
    "#     inputs = tokenizer(\n",
    "#         text,\n",
    "#         return_tensors='pt',\n",
    "#         truncation=True,\n",
    "#         padding='max_length',\n",
    "#         max_length=max_length\n",
    "#     )\n",
    "#     # Move inputs to device\n",
    "#     inputs = {key: value.to(device) for key, value in inputs.items()}\n",
    "    \n",
    "#     with torch.no_grad():\n",
    "#         outputs = model(**inputs)\n",
    "#         logits = outputs.logits\n",
    "#         probabilities = torch.sigmoid(logits).cpu().numpy()[0]  # Move to CPU for numpy operations\n",
    "#     binary_preds = (probabilities >= 0.5).astype(int)\n",
    "#     return binary_preds, probabilities\n",
    "\n",
    "# # Perform predictions\n",
    "# predictions = []\n",
    "# probabilities = []\n",
    "\n",
    "# for comment in test_comments:\n",
    "#     binary_pred, prob = predict(comment, tokenizer, model, device)\n",
    "#     predictions.append(binary_pred)\n",
    "#     probabilities.append(prob)\n",
    "\n",
    "# # Convert predictions to DataFrame\n",
    "# labels = ['toxic', 'severe_toxic', 'obscene', 'insult', 'identity_hate', 'threat']\n",
    "# preds_df = pd.DataFrame(predictions, columns=labels)\n",
    "# probs_df = pd.DataFrame(probabilities, columns=[f\"{label}_prob\" for label in labels])\n",
    "\n",
    "# # Combine with test IDs\n",
    "# submission_df = pd.concat([df_test_cleaned['id'], preds_df, probs_df], axis=1)\n",
    "\n",
    "# # Save to CSV\n",
    "# submission_df.to_csv('test_predictions.csv', index=False)\n",
    "# print(\"Predictions saved to 'test_predictions.csv'\")"
   ]
  }
 ],
 "metadata": {
  "kernelspec": {
   "display_name": "venv",
   "language": "python",
   "name": "python3"
  },
  "language_info": {
   "codemirror_mode": {
    "name": "ipython",
    "version": 3
   },
   "file_extension": ".py",
   "mimetype": "text/x-python",
   "name": "python",
   "nbconvert_exporter": "python",
   "pygments_lexer": "ipython3",
   "version": "3.11.9"
  }
 },
 "nbformat": 4,
 "nbformat_minor": 2
}
